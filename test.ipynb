{
 "nbformat": 4,
 "nbformat_minor": 2,
 "metadata": {
  "language_info": {
   "name": "python",
   "codemirror_mode": {
    "name": "ipython",
    "version": 3
   },
   "version": "3.8.1-final"
  },
  "orig_nbformat": 2,
  "file_extension": ".py",
  "mimetype": "text/x-python",
  "name": "python",
  "npconvert_exporter": "python",
  "pygments_lexer": "ipython3",
  "version": 3,
  "kernelspec": {
   "name": "python38164bitconnectometoolsvenvvenva30428f46da240f8ba6afcf1b32915cd",
   "display_name": "Python 3.8.1 64-bit ('connectome_tools_venv': venv)"
  }
 },
 "cells": [
  {
   "cell_type": "code",
   "execution_count": 5,
   "metadata": {},
   "outputs": [
    {
     "name": "stdout",
     "output_type": "stream",
     "text": "Left skid: 1679034, Right skid: 14374534\nRight skid: 14374534, Left skid: 1679034\nActual pair: 1679034, 14374534\n"
    }
   ],
   "source": [
    "import connectome_tools.process_matrix as promat\n",
    "import pandas as pd\n",
    "import numpy as np\n",
    "\n",
    "# import pair list CSV, manually generated\n",
    "pairs = pd.read_csv('data/bp-pairs-2020-01-28.csv', header = 0)\n",
    "\n",
    "# a test case left-hemisphere neuron\n",
    "skid_left = np.int64(1679034)\n",
    "skid_right = promat.identify_pair(skid_left, pairs)\n",
    "\n",
    "# a test case right-hemisphere neuron\n",
    "skid_right2 = np.int64(14374534)\n",
    "skid_left2 = promat.identify_pair(skid_right2, pairs)\n",
    "\n",
    "print(\"Left skid: %i, Right skid: %i\" %(skid_left, skid_right))\n",
    "print(\"Right skid: %i, Left skid: %i\" %(skid_right2, skid_left2))\n",
    "print(\"Actual pair: %d, %d\" % (pairs.iloc[4].values[0], pairs.iloc[4].values[1]))\n",
    "\n"
   ]
  },
  {
   "cell_type": "code",
   "execution_count": 20,
   "metadata": {},
   "outputs": [
    {
     "name": "stdout",
     "output_type": "stream",
     "text": "14374534\n"
    }
   ],
   "source": [
    "pairList = pd.read_csv('data/bp-pairs-2020-01-28.csv', header = 0)\n",
    "\n",
    "\n",
    "skid = np.int64(1679034)\n",
    "if(skid in pairList[\"leftid\"].values):\n",
    "    pair_skid = pairList[\"rightid\"][pairList[\"leftid\"]==skid].iloc[0]\n",
    "\n",
    "if(skid in pairList[\"rightid\"].values):\n",
    "    pair_skid = pairList[\"leftid\"][pairList[\"rightid\"]==skid].iloc[0]\n",
    "\n",
    "print(pair_skid)"
   ]
  },
  {
   "cell_type": "code",
   "execution_count": null,
   "metadata": {},
   "outputs": [],
   "source": []
  }
 ]
}