{
 "cells": [
  {
   "cell_type": "markdown",
   "metadata": {},
   "source": [
    "**Identify the path lengths of experimentally tested multihop connections**\n",
    "<Br>\n",
    "These values will be used as a baseline when analyzing multihop cascades"
   ]
  },
  {
   "cell_type": "code",
   "execution_count": 2,
   "metadata": {},
   "outputs": [
    {
     "name": "stderr",
     "output_type": "stream",
     "text": [
      "INFO  : Global CATMAID instance set. Caching is ON. (pymaid)\n"
     ]
    },
    {
     "name": "stdout",
     "output_type": "stream",
     "text": [
      "Path to pairs list is: data/pairs/pairs-2022-02-14.csv\n"
     ]
    },
    {
     "name": "stderr",
     "output_type": "stream",
     "text": [
      "INFO  : Cached data used. Use `pymaid.clear_cache()` to clear. (pymaid)\n",
      "INFO  : Cached data used. Use `pymaid.clear_cache()` to clear. (pymaid)\n"
     ]
    }
   ],
   "source": [
    "from data_settings import data_date_A1_brain, pairs_path\n",
    "from pymaid_creds import url, name, password, token\n",
    "import pymaid\n",
    "rm = pymaid.CatmaidInstance(url, token, name, password)\n",
    "\n",
    "import numpy as np\n",
    "import pandas as pd\n",
    "import networkx as nx\n",
    "\n",
    "from contools import Promat, Analyze_Nx_G, Celltype_Analyzer, Celltype, Cascade_Analyzer\n",
    "\n",
    "data_date = data_date_A1_brain # Brain + A1 dataset\n",
    "edge_type = 'ad'\n",
    "edges = pd.read_csv(f'data/edges_threshold/{edge_type}_pairwise-input-threshold-0.01_paired-edges_{data_date}.csv', index_col=0)\n",
    "pairs = Promat.get_pairs(pairs_path=pairs_path)"
   ]
  },
  {
   "cell_type": "markdown",
   "metadata": {},
   "source": [
    "**Determine pathways from nociceptive or chordotonal neurons to DANs**\n",
    "<br>\n",
    "These multihop connections were reported in Eschbach et al 2020, Nature Neuroscience, as functionally relevant. Behind will determine the shortest pathway between these neurons (number of hops)"
   ]
  },
  {
   "cell_type": "code",
   "execution_count": 6,
   "metadata": {},
   "outputs": [
    {
     "name": "stderr",
     "output_type": "stream",
     "text": [
      "INFO  : Cached data used. Use `pymaid.clear_cache()` to clear. (pymaid)\n",
      "INFO  : Cached data used. Use `pymaid.clear_cache()` to clear. (pymaid)\n",
      "INFO  : Cached data used. Use `pymaid.clear_cache()` to clear. (pymaid)\n",
      "INFO  : Cached data used. Use `pymaid.clear_cache()` to clear. (pymaid)\n",
      "INFO  : Cached data used. Use `pymaid.clear_cache()` to clear. (pymaid)\n",
      "INFO  : Cached data used. Use `pymaid.clear_cache()` to clear. (pymaid)\n",
      "INFO  : Cached data used. Use `pymaid.clear_cache()` to clear. (pymaid)\n",
      "INFO  : Cached data used. Use `pymaid.clear_cache()` to clear. (pymaid)\n",
      "INFO  : Cached data used. Use `pymaid.clear_cache()` to clear. (pymaid)\n",
      "INFO  : Cached data used. Use `pymaid.clear_cache()` to clear. (pymaid)\n"
     ]
    },
    {
     "name": "stdout",
     "output_type": "stream",
     "text": [
      "The shortest path from A1 noci to DAN-f1 is: 5 hops\n",
      "The shortest path from A1 noci to DAN-d1 is: 4 hops\n",
      "The shortest path from A1 noci to DAN-g1 is: 5 hops\n",
      "The shortest path from A1 chordotonals to DAN-f1 is: 4 hops\n",
      "The shortest path from A1 chordotonals to DAN-d1 is: 4 hops\n",
      "The shortest path from A1 chordotonals to DAN-g1 is: 4 hops\n"
     ]
    }
   ],
   "source": [
    "\n",
    "# collect pair_ids of neurons of interest\n",
    "A1_noci = Promat.load_pairs_from_annotation('mw A1 noci', pairList=pairs, return_type='all_pair_ids')\n",
    "A1_chord = Promat.load_pairs_from_annotation('mw A1 chordotonals', pairList=pairs, return_type='all_pair_ids')\n",
    "DANf1 = Promat.load_pairs_from_annotation('DAN-f1', pairList=pairs, return_type='all_pair_ids')\n",
    "DANd1 = Promat.load_pairs_from_annotation('DAN-d1', pairList=pairs, return_type='all_pair_ids')\n",
    "DANg1 = Promat.load_pairs_from_annotation('DAN-g1', pairList=pairs, return_type='all_pair_ids')\n",
    "\n",
    "# generate networkx analyzer object\n",
    "G_ad = Analyze_Nx_G(edges)\n",
    "\n",
    "# identify shortest paths\n",
    "noci_f1_paths = [nx.shortest_path(G=G_ad.G, source=sens, target=DANf1[0]) for sens in A1_noci]\n",
    "noci_d1_paths = [nx.shortest_path(G=G_ad.G, source=sens, target=DANd1[0]) for sens in A1_noci]\n",
    "noci_g1_paths = [nx.shortest_path(G=G_ad.G, source=sens, target=DANg1[0]) for sens in A1_noci]\n",
    "\n",
    "chord_f1_paths = [nx.shortest_path(G=G_ad.G, source=sens, target=DANf1[0]) for sens in A1_chord]\n",
    "chord_d1_paths = [nx.shortest_path(G=G_ad.G, source=sens, target=DANd1[0]) for sens in A1_chord]\n",
    "chord_g1_paths = [nx.shortest_path(G=G_ad.G, source=sens, target=DANg1[0]) for sens in A1_chord]\n",
    "\n",
    "# determine minimum path length from sensory to DAN-f1, -d1, or -g1; -1 because source neuron included in path\n",
    "min_noci_f1 = min([len(x) for x in noci_f1_paths])-1\n",
    "min_noci_d1 = min([len(x) for x in noci_d1_paths])-1\n",
    "min_noci_g1 = min([len(x) for x in noci_g1_paths])-1\n",
    "\n",
    "min_chord_f1 = min([len(x) for x in chord_f1_paths])-1\n",
    "min_chord_d1 = min([len(x) for x in chord_d1_paths])-1\n",
    "min_chord_g1 = min([len(x) for x in chord_g1_paths])-1\n",
    "\n",
    "print(f'The shortest path from A1 noci to DAN-f1 is: {min_noci_f1} hops')\n",
    "print(f'The shortest path from A1 noci to DAN-d1 is: {min_noci_d1} hops')\n",
    "print(f'The shortest path from A1 noci to DAN-g1 is: {min_noci_g1} hops')\n",
    "print(f'The shortest path from A1 chordotonals to DAN-f1 is: {min_chord_f1} hops')\n",
    "print(f'The shortest path from A1 chordotonals to DAN-d1 is: {min_chord_d1} hops')\n",
    "print(f'The shortest path from A1 chordotonals to DAN-g1 is: {min_chord_g1} hops')\n"
   ]
  },
  {
   "cell_type": "markdown",
   "metadata": {},
   "source": [
    "**Determine shortest pathways from OR42a/b to MBON-m1 and CN-33**\n",
    "<Br>\n",
    "These multihop connections were functionally tested in Eschbach et al, 2021, eLife."
   ]
  },
  {
   "cell_type": "code",
   "execution_count": 8,
   "metadata": {},
   "outputs": [
    {
     "name": "stderr",
     "output_type": "stream",
     "text": [
      "INFO  : Cached data used. Use `pymaid.clear_cache()` to clear. (pymaid)\n",
      "INFO  : Cached data used. Use `pymaid.clear_cache()` to clear. (pymaid)\n",
      "INFO  : Cached data used. Use `pymaid.clear_cache()` to clear. (pymaid)\n",
      "INFO  : Cached data used. Use `pymaid.clear_cache()` to clear. (pymaid)\n",
      "INFO  : Cached data used. Use `pymaid.clear_cache()` to clear. (pymaid)\n"
     ]
    },
    {
     "name": "stdout",
     "output_type": "stream",
     "text": [
      "The shortest path from OR42a/b to CN-33 is: 3 hops\n",
      "The shortest path from OR42a/b to MBON-m1 is: 2 hops\n"
     ]
    }
   ],
   "source": [
    "# get pair_ids of neurons of interest\n",
    "MBONm1 = Promat.load_pairs_from_annotation('MBON-m1', pairList=pairs, return_type='all_pair_ids')\n",
    "MBONm1 = Promat.load_pairs_from_annotation('MBON-m1', pairList=pairs, return_type='all_pair_ids')\n",
    "CN33 = Promat.load_pairs_from_annotation(['^CN-33$'], pairList=pairs, return_type='all_pair_ids')\n",
    "\n",
    "# generate shortest paths\n",
    "OR42ab_CN33_paths = [nx.shortest_path(G=G_ad.G, source=sens, target=CN33[0]) for sens in OR42ab]\n",
    "OR42ab_MBONm1_paths = [nx.shortest_path(G=G_ad.G, source=sens, target=MBONm1[0]) for sens in OR42ab]\n",
    "\n",
    "# determine minimum path length from sensory to CN-33; -1 because source neuron included in path\n",
    "min_OR42ab_CN33 = min([len(x) for x in OR42ab_CN33_paths])-1\n",
    "min_OR42ab_MBONm1 = min([len(x) for x in OR42ab_MBONm1_paths])-1\n",
    "\n",
    "print(f'The shortest path from OR42a/b to CN-33 is: {min_OR42ab_CN33} hops')\n",
    "print(f'The shortest path from OR42a/b to MBON-m1 is: {min_OR42ab_MBONm1} hops')"
   ]
  },
  {
   "cell_type": "markdown",
   "metadata": {},
   "source": [
    "**Determine shortest pathways from A1 nociceptive neurons to MDNs**\n",
    "<Br>\n",
    "Potentially activate MDNs, first published in Carreira-Rosario et al, 2018, eLife. If paths more than 5 hops, worth testing."
   ]
  },
  {
   "cell_type": "code",
   "execution_count": 9,
   "metadata": {},
   "outputs": [
    {
     "name": "stderr",
     "output_type": "stream",
     "text": [
      "INFO  : Cached data used. Use `pymaid.clear_cache()` to clear. (pymaid)\n"
     ]
    },
    {
     "name": "stdout",
     "output_type": "stream",
     "text": [
      "The shortest path from A1 noci to MDN1 is: 4 hops\n",
      "The shortest path from A1 noci to MDN2 is: 4 hops\n"
     ]
    }
   ],
   "source": [
    "# get pair_ids of neurons of interest\n",
    "MDNs = Promat.load_pairs_from_annotation('MDNs', pairList=pairs, return_type='all_pair_ids')\n",
    "\n",
    "# generate shortest paths\n",
    "noci_MDN1_paths = [nx.shortest_path(G=G_ad.G, source=sens, target=MDNs[0]) for sens in A1_noci]\n",
    "noci_MDN2_paths = [nx.shortest_path(G=G_ad.G, source=sens, target=MDNs[1]) for sens in A1_noci]\n",
    "\n",
    "# determine minimum path length from sensory to CN-33; -1 because source neuron included in path\n",
    "min_noci_MDN1 = min([len(x) for x in noci_MDN1_paths])-1\n",
    "min_noci_MDN2 = min([len(x) for x in noci_MDN2_paths])-1\n",
    "\n",
    "print(f'The shortest path from A1 noci to MDN1 is: {min_noci_MDN1} hops')\n",
    "print(f'The shortest path from A1 noci to MDN2 is: {min_noci_MDN2} hops')"
   ]
  },
  {
   "cell_type": "markdown",
   "metadata": {},
   "source": [
    "**Determine shortest pathways from nociceptive or chordotonals to MBONs or CN-33**\n",
    "<br>\n",
    "These could potentially be experimentally measured in the future if longer than paths in the chunk above."
   ]
  },
  {
   "cell_type": "code",
   "execution_count": 10,
   "metadata": {},
   "outputs": [
    {
     "name": "stderr",
     "output_type": "stream",
     "text": [
      "INFO  : Cached data used. Use `pymaid.clear_cache()` to clear. (pymaid)\n",
      "INFO  : Cached data used. Use `pymaid.clear_cache()` to clear. (pymaid)\n",
      "INFO  : Cached data used. Use `pymaid.clear_cache()` to clear. (pymaid)\n"
     ]
    },
    {
     "name": "stdout",
     "output_type": "stream",
     "text": [
      "The shortest path from A1 noci to CN-33 is: 5 hops\n",
      "The shortest path from A1 chordotonals to CN-33 is: 4 hops\n",
      "8 MBONs have paths of 6-hops from noci\n",
      "0 MBONs have paths of >5-hops from chordotonals\n"
     ]
    }
   ],
   "source": [
    "# get pair_ids of neurons of interest\n",
    "MBONs = Promat.load_pairs_from_annotation('mw MBON', pairList=pairs, return_type='all_pair_ids')\n",
    "CN33 = Promat.load_pairs_from_annotation('/^CN-33$', pairList=pairs, return_type='all_pair_ids')\n",
    "\n",
    "# generate shortest paths\n",
    "noci_CN33_paths = [nx.shortest_path(G=G_ad.G, source=sens, target=CN33[0]) for sens in A1_noci]\n",
    "chord_CN33_paths = [nx.shortest_path(G=G_ad.G, source=sens, target=CN33[0]) for sens in A1_chord]\n",
    "\n",
    "# determine minimum path length from sensory to CN-33; -1 because source neuron included in path\n",
    "min_noci_CN33 = min([len(x) for x in noci_CN33_paths])-1\n",
    "min_chord_CN33 = min([len(x) for x in chord_CN33_paths])-1\n",
    "\n",
    "print(f'The shortest path from A1 noci to CN-33 is: {min_noci_CN33} hops')\n",
    "print(f'The shortest path from A1 chordotonals to CN-33 is: {min_chord_CN33} hops')\n",
    "\n",
    "# generate shortest paths from noci to MBONs\n",
    "noci_MBON_paths = []\n",
    "for MBON in MBONs:\n",
    "    MBON_paths = []\n",
    "    for sens in A1_noci:\n",
    "        path = nx.shortest_path(G=G_ad.G, source=sens, target=MBON)\n",
    "        MBON_paths.append(path)\n",
    "    noci_MBON_paths.append([MBON, MBON_paths])\n",
    "\n",
    "min_paths_noci = []\n",
    "for paths in noci_MBON_paths:\n",
    "    min_paths_noci.append([paths[0], min([len(x) for x in paths[1]])-1])\n",
    "\n",
    "print(f'{sum([True for x in min_paths_noci if x[1]==6])} MBONs have paths of 6-hops from noci')\n",
    "\n",
    "# generate shortest paths from chordotonals to MBONs\n",
    "chord_MBON_paths = []\n",
    "for MBON in MBONs:\n",
    "    MBON_paths = []\n",
    "    for sens in A1_chord:\n",
    "        path = nx.shortest_path(G=G_ad.G, source=sens, target=MBON)\n",
    "        MBON_paths.append(path)\n",
    "    chord_MBON_paths.append([MBON, MBON_paths])\n",
    "\n",
    "min_paths_chord = []\n",
    "for paths in chord_MBON_paths:\n",
    "    min_paths_chord.append([paths[0], min([len(x) for x in paths[1]])-1])\n",
    "\n",
    "print(f'{sum([True for x in min_paths_chord if x[1]>5])} MBONs have paths of >5-hops from chordotonals')"
   ]
  },
  {
   "cell_type": "markdown",
   "metadata": {},
   "source": [
    "**Which MBONs receive 6-hop signal from A1 nociceptive neurons**\n",
    "<Br>\n",
    "If any have a convenient split, this will be a nice target for a functional imaging experiment"
   ]
  },
  {
   "cell_type": "code",
   "execution_count": 11,
   "metadata": {},
   "outputs": [
    {
     "name": "stdout",
     "output_type": "stream",
     "text": [
      "Identified the MBONs (left skids): [8338584, 16223537, 15421363, 8798010, 16868923, 15398730, 7910624, 7802210]\n",
      "This list includes MBON-i1 (SS01726; skid: 7802210) and MBON-h1/h2 (SS00894; skids: 8338584, 8798010)\n",
      "Noci activation with GCaMP expression in MBON-i1 or MBON-h1/h2 would be informative\n"
     ]
    }
   ],
   "source": [
    "which_MBON = [True if x[1]>5 else False for x in min_paths_noci]\n",
    "\n",
    "MBON_long_paths = [x for i, x in enumerate(noci_MBON_paths) if which_MBON[i]==True]\n",
    "MBON_for_splits = [x[0] for x in MBON_long_paths]\n",
    "#pymaid.add_annotations(MBON_for_splits, 'mw MBON check splits')\n",
    "\n",
    "print(f'Identified the MBONs (left skids): {MBON_for_splits}')\n",
    "print('This list includes MBON-i1 (SS01726; skid: 7802210) and MBON-h1/h2 (SS00894; skids: 8338584, 8798010)')\n",
    "print('Noci activation with GCaMP expression in MBON-i1 or MBON-h1/h2 would be informative')"
   ]
  }
 ],
 "metadata": {
  "interpreter": {
   "hash": "ee34bac4ca4a10324b93c3c9c14fd8d2eb9870576773b710a236c48cc5327cbf"
  },
  "kernelspec": {
   "display_name": "Python 3.9.7 ('connectome_analysis_env')",
   "language": "python",
   "name": "python3"
  },
  "language_info": {
   "codemirror_mode": {
    "name": "ipython",
    "version": 3
   },
   "file_extension": ".py",
   "mimetype": "text/x-python",
   "name": "python",
   "nbconvert_exporter": "python",
   "pygments_lexer": "ipython3",
   "version": "3.9.7"
  },
  "orig_nbformat": 4
 },
 "nbformat": 4,
 "nbformat_minor": 2
}
